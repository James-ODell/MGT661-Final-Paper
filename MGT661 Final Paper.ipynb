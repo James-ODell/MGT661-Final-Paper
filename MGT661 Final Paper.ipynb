{
 "cells": [
  {
   "cell_type": "code",
   "execution_count": 1,
   "id": "c303235a",
   "metadata": {},
   "outputs": [],
   "source": [
    "# import libraries\n",
    "import nltk\n",
    "import re\n",
    "import pandas as pd"
   ]
  },
  {
   "cell_type": "code",
   "execution_count": 26,
   "id": "610f00cd",
   "metadata": {},
   "outputs": [],
   "source": [
    "# create a string variable\n",
    "\n",
    "re_test = 'LF HUB                        FRONT WHEEL HUB               DORMAN (OE SOL DDM 930-551'"
   ]
  },
  {
   "cell_type": "code",
   "execution_count": 27,
   "id": "6e0f1b80",
   "metadata": {},
   "outputs": [
    {
     "name": "stdout",
     "output_type": "stream",
     "text": [
      "['LF', 'HUB', 'FRONT', 'WHEEL', 'HUB', 'DORMAN', '(OE', 'SOL', 'DDM', '930-551']\n"
     ]
    }
   ],
   "source": [
    "# tokenize the string\n",
    "\n",
    "text = re.split('\\s+', re_test)\n",
    "\n",
    "print (text)"
   ]
  },
  {
   "cell_type": "code",
   "execution_count": 28,
   "id": "fe3c1e90",
   "metadata": {},
   "outputs": [
    {
     "name": "stdout",
     "output_type": "stream",
     "text": [
      "['LF', 'HUB', 'FRONT', 'WHEEL', 'HUB', 'DORMAN', '(OE', 'SOL', 'DDM', '930-551']\n"
     ]
    }
   ],
   "source": [
    "# remove stopwords\n",
    "\n",
    "stopword = nltk.corpus.stopwords.words('english')\n",
    "\n",
    "text_nostop = [word for word in text if word not in stopword]\n",
    "\n",
    "print (text_nostop)"
   ]
  },
  {
   "cell_type": "code",
   "execution_count": 29,
   "id": "717e80b9",
   "metadata": {},
   "outputs": [],
   "source": [
    "# define brand list to look for in tokenized list\n",
    "\n",
    "brand_list = [\"AKEBONO\", \"BOSCH\", \"CARLSON\", \"CENTRIC\", \"DORMAN\", \"DURAGO\", \"SKF\", \"STANDARD\", \"TIMKEN\", \"WAGNER\"]"
   ]
  },
  {
   "cell_type": "code",
   "execution_count": 30,
   "id": "c6c75473",
   "metadata": {},
   "outputs": [
    {
     "name": "stdout",
     "output_type": "stream",
     "text": [
      "['DORMAN']\n"
     ]
    }
   ],
   "source": [
    "# define a function to look through an array to find brand names \n",
    "\n",
    "def filter_brand(words, custom_list):\n",
    "    \"\"\"\n",
    "    Loops through an array of words and checks if each word is in a custom-defined list.\n",
    "    If the word is found, it is added to a new array.\n",
    "    If the word is not found, \"Not Found\" is added to the new array.\n",
    "\n",
    "    Args:\n",
    "        words (list): The list of words to check.\n",
    "        custom_list (list): The custom-defined list to check against.\n",
    "\n",
    "    Returns:\n",
    "        list: A new array with either the word (if found) or \"Not Found\" (if not found).\n",
    "    \"\"\"\n",
    "    for word in words:\n",
    "        if word in custom_list:\n",
    "            return word\n",
    "    return \"Not Found\"\n",
    "\n",
    "\n",
    "# Apply function to text_nostop array\n",
    "\n",
    "brand_results = []\n",
    "brand_results.append(filter_brand(text_nostop, brand_list))\n",
    "print(brand_results)\n"
   ]
  },
  {
   "cell_type": "code",
   "execution_count": null,
   "id": "22981df9",
   "metadata": {},
   "outputs": [],
   "source": []
  }
 ],
 "metadata": {
  "kernelspec": {
   "display_name": "Python 3 (ipykernel)",
   "language": "python",
   "name": "python3"
  },
  "language_info": {
   "codemirror_mode": {
    "name": "ipython",
    "version": 3
   },
   "file_extension": ".py",
   "mimetype": "text/x-python",
   "name": "python",
   "nbconvert_exporter": "python",
   "pygments_lexer": "ipython3",
   "version": "3.11.5"
  }
 },
 "nbformat": 4,
 "nbformat_minor": 5
}
